{
 "cells": [
  {
   "cell_type": "code",
   "execution_count": null,
   "metadata": {},
   "outputs": [],
   "source": [
    "from google.colab import drive\n",
    "GOOGLE_DRIVE_MOUNT = \"/content/drive\"\n",
    "drive.mount(GOOGLE_DRIVE_MOUNT)"
   ]
  },
  {
   "cell_type": "code",
   "execution_count": null,
   "metadata": {},
   "outputs": [],
   "source": [
    "! pip install --upgrade tensorflow==1.13.1\n",
    "! pip install wavio\n",
    "! pip install dicttoxml\n",
    "! pip2 install soundfile\n",
    "! pip install pascal_voc_writer"
   ]
  },
  {
   "cell_type": "code",
   "execution_count": null,
   "metadata": {},
   "outputs": [],
   "source": [
    "% cd ..\n",
    "! cp -rf '/content/drive/My Drive/colab/Audio_Segmentation_V3' .\n",
    "% cd Audio_Segmentation_V3"
   ]
  },
  {
   "cell_type": "code",
   "execution_count": null,
   "metadata": {},
   "outputs": [],
   "source": [
    "from utils.preproc import newest_subdir_of, create_spectrs_and_anns_from_wav  "
   ]
  },
  {
   "cell_type": "code",
   "execution_count": null,
   "metadata": {},
   "outputs": [],
   "source": [
    "! python2 generate_evaltest_mixtures.py -data_path 'audio_data' -params mixing_params_evaltest.yaml\n",
    "! cp -rf '/Audio_Segmentation_V3/audio_data/mixture_data/evaltest' '/content/drive/My Drive/colab'"
   ]
  },
  {
   "cell_type": "code",
   "execution_count": null,
   "metadata": {},
   "outputs": [],
   "source": [
    "mixture_path = newest_subdir_of('./audio_data/mixture_data/evaltest/')\n",
    "spectrograms_path = './train_image_folder/'\n",
    "annotations_path = './train_annot_folder/'"
   ]
  },
  {
   "cell_type": "code",
   "execution_count": null,
   "metadata": {},
   "outputs": [],
   "source": [
    "create_spectrs_and_anns_from_wav(mixture_path, spectrograms_path, annotations_path)"
   ]
  },
  {
   "cell_type": "code",
   "execution_count": null,
   "metadata": {},
   "outputs": [],
   "source": [
    "! cp -rf 'train_annot_folder' '/content/drive/My Drive/colab'\n",
    "! cp -rf 'train_image_folder' '/content/drive/My Drive/colab'"
   ]
  },
  {
   "cell_type": "code",
   "execution_count": null,
   "metadata": {},
   "outputs": [],
   "source": [
    "! python3 gen_anchors.py -c config.json"
   ]
  },
  {
   "cell_type": "code",
   "execution_count": null,
   "metadata": {
    "scrolled": false
   },
   "outputs": [],
   "source": [
    "! python3 train.py -c config.json"
   ]
  }
 ],
 "metadata": {
  "kernelspec": {
   "display_name": "Python 3",
   "language": "python",
   "name": "python3"
  },
  "language_info": {
   "codemirror_mode": {
    "name": "ipython",
    "version": 3
   },
   "file_extension": ".py",
   "mimetype": "text/x-python",
   "name": "python",
   "nbconvert_exporter": "python",
   "pygments_lexer": "ipython3",
   "version": "3.6.8"
  }
 },
 "nbformat": 4,
 "nbformat_minor": 2
}
