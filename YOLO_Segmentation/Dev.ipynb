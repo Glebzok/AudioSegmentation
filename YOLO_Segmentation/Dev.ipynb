{
 "cells": [
  {
   "cell_type": "code",
   "execution_count": 28,
   "metadata": {},
   "outputs": [],
   "source": [
    "import numpy as np\n",
    "from core import load_audio, write_audio\n",
    "import os\n",
    "from core import read_meta_yaml, write_meta_yaml"
   ]
  },
  {
   "cell_type": "code",
   "execution_count": 29,
   "metadata": {},
   "outputs": [],
   "source": [
    "audio_path = './audio_data/'\n",
    "bgs_path = './audio_data/source_data/bgs/'\n",
    "cv_setup_path = './audio_data/source_data/cv_setup/'"
   ]
  },
  {
   "cell_type": "code",
   "execution_count": 4,
   "metadata": {},
   "outputs": [],
   "source": [
    "FS = 44100\n",
    "BG_LEN = 5"
   ]
  },
  {
   "cell_type": "code",
   "execution_count": 5,
   "metadata": {},
   "outputs": [],
   "source": [
    "for rec in os.listdir(audio_path+'source_data/bgs/audio/'):\n",
    "    rec_data, fs = load_audio(audio_path+'source_data/bgs/audio/'+rec)\n",
    "    write_audio(audio_path+'source_data/bgs/audio/'+rec, rec_data[:int(BG_LEN * FS)], FS, 32)"
   ]
  },
  {
   "cell_type": "code",
   "execution_count": 26,
   "metadata": {},
   "outputs": [],
   "source": [
    "with open(bgs_path+'new_meta.txt', 'w') as new_meta:\n",
    "    with open(bgs_path+'meta.txt', 'r') as meta:\n",
    "        for line in meta:\n",
    "            filename, event = str(line).split()\n",
    "            if os.path.exists(bgs_path+filename):\n",
    "                new_meta.write(\"\\t\".join([filename, event, '\\n']))\n",
    "os.rename(bgs_path+'new_meta.txt', bgs_path+'meta.txt')"
   ]
  },
  {
   "cell_type": "code",
   "execution_count": 34,
   "metadata": {},
   "outputs": [],
   "source": [
    "bgs_meta = read_meta_yaml(cv_setup_path+'bgs_evaltest.yaml')\n",
    "new_meta = []\n",
    "for line in bgs_meta:\n",
    "    if os.path.exists(bgs_path+line['filepath']):\n",
    "        new_meta.append(line)\n",
    "write_meta_yaml(cv_setup_path+'bgs_evaltest.yaml', new_meta)"
   ]
  }
 ],
 "metadata": {
  "kernelspec": {
   "display_name": "Python 3",
   "language": "python",
   "name": "python3"
  },
  "language_info": {
   "codemirror_mode": {
    "name": "ipython",
    "version": 3
   },
   "file_extension": ".py",
   "mimetype": "text/x-python",
   "name": "python",
   "nbconvert_exporter": "python",
   "pygments_lexer": "ipython3",
   "version": "3.6.8"
  }
 },
 "nbformat": 4,
 "nbformat_minor": 2
}
